{
 "cells": [
  {
   "cell_type": "markdown",
   "metadata": {},
   "source": [
    "![data-x](http://oi64.tinypic.com/o858n4.jpg)\n",
    "\n",
    "---\n",
    "# Homework 3: Pandas\n",
    "### Pandas BKHW with Stock Data and Correlation Examples\n",
    "\n",
    "\n",
    "**Author list:** Ikhlaq Sidhu & Alexander Fred Ojala\n",
    "\n",
    "\n",
    "**License Agreement:** Feel free to do whatever you want with this code\n",
    "\n",
    "___"
   ]
  },
  {
   "cell_type": "markdown",
   "metadata": {},
   "source": [
    "## Homework Section"
   ]
  },
  {
   "cell_type": "code",
   "execution_count": null,
   "metadata": {
    "collapsed": true
   },
   "outputs": [],
   "source": [
    "import pandas as pd\n",
    "import numpy as np\n",
    "import matplotlib.pyplot as plt"
   ]
  },
  {
   "cell_type": "markdown",
   "metadata": {},
   "source": [
    "# Part 1: Country statistics"
   ]
  },
  {
   "cell_type": "markdown",
   "metadata": {},
   "source": [
    "#### 1) Read in a CSV file called 'data3.csv' into a dataframe called df.\n",
    "#### 2) Display the first few lines"
   ]
  },
  {
   "cell_type": "code",
   "execution_count": null,
   "metadata": {
    "collapsed": true
   },
   "outputs": [],
   "source": [
    "\n"
   ]
  },
  {
   "cell_type": "markdown",
   "metadata": {},
   "source": [
    "#### 3)  If you inspect the whole file in an editor, you will see that the bottom 8 lines in the frame need to be dropped.  Remove those 8 lines from df.  You can also use df.tail() to see the last lines."
   ]
  },
  {
   "cell_type": "code",
   "execution_count": null,
   "metadata": {
    "collapsed": true
   },
   "outputs": [],
   "source": []
  },
  {
   "cell_type": "markdown",
   "metadata": {},
   "source": [
    "#### 4) Drop columns: drop the columns Area Id, Variable Id, Symbol, and Md.  Hint Google 'delete a column in pandas \n"
   ]
  },
  {
   "cell_type": "code",
   "execution_count": null,
   "metadata": {
    "collapsed": true
   },
   "outputs": [],
   "source": []
  },
  {
   "cell_type": "markdown",
   "metadata": {},
   "source": [
    "#### 5) # Convert the year column to pandas datetime?\n",
    "\n",
    "Convert the 'Year' column string values to pandas datetime objects, where only the year is specified. To do this, simply run the code below (please review it carefully and make sure you understand what happens):\n",
    "\n",
    "df['Year'] = pd.to_datetime(pd.Series(df['Year']).astype(int),format='%Y').dt.year\n",
    "Run df.tail() to see if you get what you expect"
   ]
  },
  {
   "cell_type": "code",
   "execution_count": null,
   "metadata": {
    "collapsed": true
   },
   "outputs": [],
   "source": []
  },
  {
   "cell_type": "markdown",
   "metadata": {},
   "source": [
    "#### 6) Print rows where Area is Iceland"
   ]
  },
  {
   "cell_type": "code",
   "execution_count": null,
   "metadata": {
    "collapsed": true
   },
   "outputs": [],
   "source": []
  },
  {
   "cell_type": "markdown",
   "metadata": {},
   "source": [
    "#### 7) Print the years when the National Rainfall Index (NRI) was greater than 950 or less than 900 in Iceland, by using this code.  Put it ina dataframe called df_temp so you don't change the original 'df'"
   ]
  },
  {
   "cell_type": "code",
   "execution_count": null,
   "metadata": {
    "collapsed": true
   },
   "outputs": [],
   "source": []
  },
  {
   "cell_type": "markdown",
   "metadata": {},
   "source": [
    "#### 8) Get al the rows of the original df area is United States of America \n",
    "\n",
    "a) put the USA into a df_usa data frame\n",
    "\n",
    "b) Add the columns to ['GDP','NRI','PD','Area','Population']\n",
    "\n",
    "c) delending on the 'Variable Name' put the value into respective column 'GDP','NRI','PD','Area', or 'Population'\n",
    "\n",
    "Look into this syntax in case its helpful:\n",
    "df['color'] = np.where(df['Set']=='Z', 'green', 'red')\n",
    "\n",
    "d) Find the maximum value and minimum value of the 'NRI' column in the US (using pandas methods). What years do the min and max values occur?"
   ]
  },
  {
   "cell_type": "markdown",
   "metadata": {},
   "source": [
    "#### 9) Show general statistics for columns 'GDP','NRI','PD', and 'Population'"
   ]
  },
  {
   "cell_type": "code",
   "execution_count": null,
   "metadata": {
    "collapsed": true
   },
   "outputs": [],
   "source": []
  },
  {
   "cell_type": "markdown",
   "metadata": {},
   "source": [
    "# Part 2: Stocks"
   ]
  },
  {
   "cell_type": "markdown",
   "metadata": {
    "collapsed": true
   },
   "source": [
    "#### 10 a) Show a 3 x 3 correlation matrix for Nike, Apple, and Disney stock prices over the past year (see how to load these stock values from the lecture)"
   ]
  },
  {
   "cell_type": "code",
   "execution_count": null,
   "metadata": {
    "collapsed": true
   },
   "outputs": [],
   "source": []
  },
  {
   "cell_type": "markdown",
   "metadata": {
    "collapsed": true
   },
   "source": [
    "#### 10b) Show the same correlation matrix but over different time periods, \n",
    "\n",
    "i) the last 20 days\n",
    "ii) the last 80 days"
   ]
  },
  {
   "cell_type": "code",
   "execution_count": null,
   "metadata": {
    "collapsed": true
   },
   "outputs": [],
   "source": []
  },
  {
   "cell_type": "markdown",
   "metadata": {},
   "source": [
    "#### 11) Change the code so that it accepts a list of any stock symbols, ie ['NKE', 'APPL', 'DIS', ... ] and creates a correlation matrix for the time period of the past 100 days\n"
   ]
  },
  {
   "cell_type": "code",
   "execution_count": null,
   "metadata": {
    "collapsed": true
   },
   "outputs": [],
   "source": []
  }
 ],
 "metadata": {
  "anaconda-cloud": {},
  "kernelspec": {
   "display_name": "Python 3",
   "language": "python",
   "name": "python3"
  },
  "language_info": {
   "codemirror_mode": {
    "name": "ipython",
    "version": 3
   },
   "file_extension": ".py",
   "mimetype": "text/x-python",
   "name": "python",
   "nbconvert_exporter": "python",
   "pygments_lexer": "ipython3",
   "version": "3.6.1"
  }
 },
 "nbformat": 4,
 "nbformat_minor": 1
}
